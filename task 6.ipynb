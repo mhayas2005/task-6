{
 "cells": [
  {
   "cell_type": "code",
   "execution_count": 1,
   "id": "07a03bc8-6822-4f53-a9e3-376906e449a6",
   "metadata": {},
   "outputs": [],
   "source": [
    "import cv2\n",
    "import numpy as np\n",
    "import matplotlib.pyplot as plt"
   ]
  },
  {
   "cell_type": "code",
   "execution_count": 2,
   "id": "7c13b62a-9e70-4a65-b95d-3b2527e9c554",
   "metadata": {},
   "outputs": [],
   "source": [
    "vid = cv2.VideoCapture(\"C:\\\\Users\\\\aedpu\\\\Downloads\\\\3066433-uhd_4096_2160_24fps.mp4\")"
   ]
  },
  {
   "cell_type": "code",
   "execution_count": 3,
   "id": "7eeb3c67-13c1-4f91-a897-00b1516a0009",
   "metadata": {},
   "outputs": [
    {
     "name": "stdout",
     "output_type": "stream",
     "text": [
      "True\n"
     ]
    }
   ],
   "source": [
    "print(vid.isOpened())"
   ]
  },
  {
   "cell_type": "code",
   "execution_count": 4,
   "id": "30497d3a-ea11-4e29-afd5-87e0485ae48d",
   "metadata": {},
   "outputs": [
    {
     "data": {
      "text/plain": [
       "array([[1, 1, 1, 1, 1],\n",
       "       [1, 1, 1, 1, 1],\n",
       "       [1, 1, 1, 1, 1],\n",
       "       [1, 1, 1, 1, 1],\n",
       "       [1, 1, 1, 1, 1]], dtype=uint8)"
      ]
     },
     "execution_count": 4,
     "metadata": {},
     "output_type": "execute_result"
    }
   ],
   "source": [
    "kernel = np.ones((5,5),np.uint8)\n",
    "kernel"
   ]
  },
  {
   "cell_type": "code",
   "execution_count": 5,
   "id": "35f6fab8-6898-4c02-9c47-14e058e7e8a5",
   "metadata": {},
   "outputs": [],
   "source": [
    "while(vid.isOpened()):\n",
    "    ret, frame = vid.read()\n",
    "    GREY=cv2.cvtColor(frame,cv2.COLOR_BGR2GRAY)\n",
    "    ret,thresh1 = cv2.threshold(GREY, 200,255,cv2.THRESH_BINARY)\n",
    "    erosion = cv2.erode(thresh1 , kernel , iterations = 1)\n",
    "    dilation = cv2.dilate(thresh1 , kernel , iterations = 1)\n",
    "    open = cv2.morphologyEx(thresh1 , cv2.MORPH_OPEN , kernel)\n",
    "    close = cv2.morphologyEx(thresh1 , cv2.MORPH_CLOSE , kernel)\n",
    "    gradient =  cv2.morphologyEx(thresh1 , cv2.MORPH_GRADIENT , kernel)\n",
    "    tophat =  cv2.morphologyEx(thresh1, cv2.MORPH_TOPHAT , kernel)\n",
    "    blackhat =  cv2.morphologyEx(thresh1 , cv2.MORPH_BLACKHAT, kernel)\n",
    "    cv2.imshow('video',frame)\n",
    "    cv2.imshow('Grey' ,GREY)\n",
    "    cv2.imshow(' erosion', erosion)\n",
    "    cv2.imshow('dilation' ,dilation)\n",
    "    cv2.imshow('open',open)\n",
    "    cv2.imshow('close' ,close)\n",
    "    cv2.imshow(' gradient' , gradient)\n",
    "    cv2.imshow('tophat',tophat)\n",
    "    cv2.imshow('blackhat' ,blackhat)\n",
    "    \n",
    "    \n",
    "    \n",
    "    if cv2.waitKey(150) & 0xFF == ord('q'):\n",
    "        break\n",
    "                \n",
    "vid.release() \n",
    "cv2.destroyAllWindows()"
   ]
  },
  {
   "cell_type": "code",
   "execution_count": null,
   "id": "7d598976-ee74-4e32-acf4-654903eead23",
   "metadata": {},
   "outputs": [],
   "source": []
  }
 ],
 "metadata": {
  "kernelspec": {
   "display_name": "Python 3 (ipykernel)",
   "language": "python",
   "name": "python3"
  },
  "language_info": {
   "codemirror_mode": {
    "name": "ipython",
    "version": 3
   },
   "file_extension": ".py",
   "mimetype": "text/x-python",
   "name": "python",
   "nbconvert_exporter": "python",
   "pygments_lexer": "ipython3",
   "version": "3.11.9"
  }
 },
 "nbformat": 4,
 "nbformat_minor": 5
}
